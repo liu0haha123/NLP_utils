{
 "cells": [
  {
   "cell_type": "code",
   "execution_count": 1,
   "metadata": {},
   "outputs": [],
   "source": [
    "from tensorflow.keras.preprocessing import sequence\n",
    "from tensorflow.keras.models import Sequential\n",
    "from tensorflow.keras.layers import Dense, Embedding\n",
    "from tensorflow.keras.layers import LSTM\n",
    "import numpy as np"
   ]
  },
  {
   "cell_type": "code",
   "execution_count": 5,
   "metadata": {},
   "outputs": [],
   "source": [
    "import pandas as pd\n",
    "import os\n",
    "PATH = \"data/\""
   ]
  },
  {
   "cell_type": "code",
   "execution_count": 6,
   "metadata": {},
   "outputs": [],
   "source": [
    "filename =os.path.join(PATH,\"SN_d_tot_V2.0.csv\")\n",
    "names = ['year', 'month', 'day', 'dec_year', 'sn_value' , 'sn_error', 'obs_num']\n",
    "df = pd.read_csv(filename,sep=';',header=None,names=names,na_values=['-1'], index_col=False)\n"
   ]
  },
  {
   "cell_type": "code",
   "execution_count": 11,
   "metadata": {},
   "outputs": [
    {
     "data": {
      "text/plain": [
       "(62525, 7)"
      ]
     },
     "execution_count": 11,
     "metadata": {},
     "output_type": "execute_result"
    }
   ],
   "source": [
    "df.shape"
   ]
  },
  {
   "cell_type": "code",
   "execution_count": 10,
   "metadata": {},
   "outputs": [
    {
     "name": "stdout",
     "output_type": "stream",
     "text": [
      "11314\n"
     ]
    }
   ],
   "source": [
    "start_id = max(df[df['obs_num'] == 0].index.tolist())+1  # Find the last zero and move one beyond\n",
    "print(start_id)\n",
    "df = df[start_id:] # Trim the rows that have missing observations"
   ]
  },
  {
   "cell_type": "code",
   "execution_count": 13,
   "metadata": {},
   "outputs": [
    {
     "name": "stdout",
     "output_type": "stream",
     "text": [
      "Training set has 55160 observations.\n",
      "Test set has 7365 observations.\n"
     ]
    }
   ],
   "source": [
    "df[\"sn_value\"] = df[\"sn_value\"].astype(float)\n",
    "df_train = df[df[\"year\"]<2000]\n",
    "df_test = df[df[\"year\"]>=2000]\n",
    "spots_train = df_train['sn_value'].tolist()\n",
    "spots_test = df_test['sn_value'].tolist()\n",
    "\n",
    "print(\"Training set has {} observations.\".format(len(spots_train)))\n",
    "print(\"Test set has {} observations.\".format(len(spots_test)))"
   ]
  },
  {
   "cell_type": "code",
   "execution_count": 14,
   "metadata": {},
   "outputs": [],
   "source": [
    "SEQUENCE_SIZE=10\n",
    "import numpy as np\n",
    "def to_Seq(seq_size,obs):\n",
    "    x=[]\n",
    "    y=[]\n",
    "    for i in range(len(obs)-SEQUENCE_SIZE):\n",
    "        window = obs[i:(i+SEQUENCE_SIZE)]\n",
    "        after_window = obs[i+SEQUENCE_SIZE]\n",
    "        window = [[x] for x in window]\n",
    "        x.append(window)\n",
    "        y.append(after_window)\n",
    "        \n",
    "    return np.array(x),np.array(y)\n",
    "        "
   ]
  },
  {
   "cell_type": "code",
   "execution_count": 16,
   "metadata": {},
   "outputs": [
    {
     "name": "stdout",
     "output_type": "stream",
     "text": [
      "Shape of training set: (55150, 10, 1)\n",
      "Shape of test set: (7355, 10, 1)\n"
     ]
    }
   ],
   "source": [
    "x_train,y_train = to_Seq(SEQUENCE_SIZE,spots_train)\n",
    "x_test,y_test = to_Seq(SEQUENCE_SIZE,spots_test)\n",
    "\n",
    "print(\"Shape of training set: {}\".format(x_train.shape))\n",
    "print(\"Shape of test set: {}\".format(x_test.shape))"
   ]
  },
  {
   "cell_type": "code",
   "execution_count": 17,
   "metadata": {},
   "outputs": [],
   "source": [
    "from tensorflow.keras.callbacks import EarlyStopping\n",
    "\n",
    "model = Sequential()\n",
    "model.add(LSTM(64,dropout=0.1,recurrent_dropout=0,input_shape =[None,1]))\n",
    "model.add(Dense(32))"
   ]
  },
  {
   "cell_type": "code",
   "execution_count": 18,
   "metadata": {},
   "outputs": [],
   "source": [
    "model.add(Dense(1))"
   ]
  },
  {
   "cell_type": "code",
   "execution_count": 19,
   "metadata": {},
   "outputs": [
    {
     "name": "stdout",
     "output_type": "stream",
     "text": [
      "Model: \"sequential\"\n",
      "_________________________________________________________________\n",
      "Layer (type)                 Output Shape              Param #   \n",
      "=================================================================\n",
      "lstm (LSTM)                  (None, 64)                16896     \n",
      "_________________________________________________________________\n",
      "dense (Dense)                (None, 32)                2080      \n",
      "_________________________________________________________________\n",
      "dense_1 (Dense)              (None, 1)                 33        \n",
      "=================================================================\n",
      "Total params: 19,009\n",
      "Trainable params: 19,009\n",
      "Non-trainable params: 0\n",
      "_________________________________________________________________\n"
     ]
    }
   ],
   "source": [
    "model.summary()"
   ]
  },
  {
   "cell_type": "code",
   "execution_count": null,
   "metadata": {},
   "outputs": [
    {
     "name": "stdout",
     "output_type": "stream",
     "text": [
      "Train\n",
      "Train on 55150 samples, validate on 7355 samples\n",
      "Epoch 1/2000\n",
      "55150/55150 - 12s - loss: 1404.5584 - val_loss: 288.8022\n",
      "Epoch 2/2000\n",
      "55150/55150 - 8s - loss: 573.6276 - val_loss: 387.5332\n",
      "Epoch 3/2000\n",
      "55150/55150 - 9s - loss: 575.8376 - val_loss: 195.4014\n",
      "Epoch 4/2000\n",
      "55150/55150 - 9s - loss: 574.0914 - val_loss: 281.9924\n",
      "Epoch 5/2000\n",
      "55150/55150 - 9s - loss: 566.3224 - val_loss: 351.0579\n",
      "Epoch 6/2000\n",
      "55150/55150 - 9s - loss: 565.6538 - val_loss: 298.0930\n"
     ]
    }
   ],
   "source": [
    "model.compile(loss='mean_squared_error', optimizer='adam')\n",
    "monitor = EarlyStopping(monitor=\"val_loss\",min_delta=1e-3,patience=4,verbose=1,\n",
    "                       mode=\"auto\",restore_best_weights=True)\n",
    "\n",
    "print(\"Train\")\n",
    "model.fit(x_train,y_train,validation_data=[x_test,y_test],\n",
    "         callbacks=[monitor],verbose=2,epochs=2000)"
   ]
  },
  {
   "cell_type": "code",
   "execution_count": null,
   "metadata": {},
   "outputs": [],
   "source": []
  }
 ],
 "metadata": {
  "kernelspec": {
   "display_name": "Python [conda env:tensorflow]",
   "language": "python",
   "name": "conda-env-tensorflow-py"
  },
  "language_info": {
   "codemirror_mode": {
    "name": "ipython",
    "version": 3
   },
   "file_extension": ".py",
   "mimetype": "text/x-python",
   "name": "python",
   "nbconvert_exporter": "python",
   "pygments_lexer": "ipython3",
   "version": "3.6.9"
  }
 },
 "nbformat": 4,
 "nbformat_minor": 2
}
